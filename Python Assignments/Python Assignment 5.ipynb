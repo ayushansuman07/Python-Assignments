{
 "cells": [
  {
   "cell_type": "markdown",
   "metadata": {},
   "source": [
    "# Python Assignment 5"
   ]
  },
  {
   "cell_type": "markdown",
   "metadata": {},
   "source": [
    "1. Write a function to compute 5/0 and use try/except to catch the exceptions."
   ]
  },
  {
   "cell_type": "code",
   "execution_count": 18,
   "metadata": {},
   "outputs": [
    {
     "name": "stdout",
     "output_type": "stream",
     "text": [
      "An Integer/Number is not divisible by Zero. Please Provide a Non-Zero Number!!\n"
     ]
    }
   ],
   "source": [
    "def Devide():\n",
    "    return 5/0\n",
    "try:\n",
    "    Devide()\n",
    "except ZeroDivisionError:\n",
    "    print(\"An Integer/Number is not divisible by Zero. Please Provide a Non-Zero Number!!\")\n",
    "except:\n",
    "    print(\"Try Again!!!\")"
   ]
  },
  {
   "cell_type": "markdown",
   "metadata": {},
   "source": [
    "2: Implement a Python program to generate all sentences where subject is in [\"Americans\", \"Indians\"] and verb is in [\"Play\", \"watch\"] and the object is in [\"Baseball\",\"cricket\"].\n",
    "\n",
    "        Hint: Subject,Verb and Object should be declared in the program as shown below.                \n",
    "        subjects=[\"Americans \",\"Indians\"]\n",
    "        verbs=[\"play\",\"watch\"]\n",
    "        objects=[\"Baseball\",\"Cricket\"]\n",
    "\n",
    "Exptected Output  :                       \n",
    "                   Americans play Baseball.\n",
    "                   Americans play Cricket.\n",
    "                   Americans watch Baseball.\n",
    "                   Americans watch Cricket.\n",
    "                   Indians play Baseball.\n",
    "                   Indians play Cricket.\n",
    "                   Indians watch Baseball.\n",
    "                   Indians watch Cricket."
   ]
  },
  {
   "cell_type": "code",
   "execution_count": 26,
   "metadata": {
    "scrolled": true
   },
   "outputs": [
    {
     "name": "stdout",
     "output_type": "stream",
     "text": [
      "Americans play Baseball.Americans play Cricket.Americans watch Baseball.Americans watch Cricket.Indians play Baseball.Indians play Cricket.Indians watch Baseball.Indians watch Cricket\n"
     ]
    }
   ],
   "source": [
    "#First Approach\n",
    "subjects=[\"Americans \",\"Indians\"]\n",
    "verbs=[\"play\",\"watch\"]\n",
    "objects=[\"Baseball\",\"Cricket\"]\n",
    "str_list = []\n",
    "for i in subjects:\n",
    "    for j in verbs:\n",
    "        for k in objects:\n",
    "            str_list.append(i.strip()+' '+j.strip()+' '+k.strip())\n",
    "print('.'.join(str_list))"
   ]
  },
  {
   "cell_type": "code",
   "execution_count": 30,
   "metadata": {},
   "outputs": [
    {
     "name": "stdout",
     "output_type": "stream",
     "text": [
      "Americans play Baseball.\n",
      "Americans play Cricket.\n",
      "Americans watch Baseball.\n",
      "Americans watch Cricket.\n",
      "Indians play Baseball.\n",
      "Indians play Cricket.\n",
      "Indians watch Baseball.\n",
      "Indians watch Cricket.\n"
     ]
    }
   ],
   "source": [
    "#Second Approach\n",
    "subjects=[\"Americans \",\"Indians\"]\n",
    "verbs=[\"play\",\"watch\"]\n",
    "objects=[\"Baseball\",\"Cricket\"]\n",
    "str_list = [(i.strip()+' '+j.strip()+' '+k.strip()+'.') for i in subjects for j in verbs for k in objects]\n",
    "for i in str_list:\n",
    "    print (i)"
   ]
  },
  {
   "cell_type": "code",
   "execution_count": null,
   "metadata": {},
   "outputs": [],
   "source": []
  }
 ],
 "metadata": {
  "kernelspec": {
   "display_name": "Python 3",
   "language": "python",
   "name": "python3"
  },
  "language_info": {
   "codemirror_mode": {
    "name": "ipython",
    "version": 3
   },
   "file_extension": ".py",
   "mimetype": "text/x-python",
   "name": "python",
   "nbconvert_exporter": "python",
   "pygments_lexer": "ipython3",
   "version": "3.7.4"
  }
 },
 "nbformat": 4,
 "nbformat_minor": 2
}
