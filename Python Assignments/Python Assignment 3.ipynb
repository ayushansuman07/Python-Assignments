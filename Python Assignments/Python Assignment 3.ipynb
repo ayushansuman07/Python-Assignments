{
 "cells": [
  {
   "cell_type": "markdown",
   "metadata": {},
   "source": [
    "# Python Assignment 3"
   ]
  },
  {
   "cell_type": "markdown",
   "metadata": {},
   "source": [
    "1.1 Write a Python Program to implement your own myreduce() function which works exactly like Python's built-in function reduce()"
   ]
  },
  {
   "cell_type": "code",
   "execution_count": 33,
   "metadata": {},
   "outputs": [],
   "source": [
    "#Creting Function\n",
    "def myreduce(number,symbol):\n",
    "    coll = [i for i in range(1,int(number)+1)]\n",
    "    if symbol == '+':\n",
    "        result = 0\n",
    "        for i in coll:\n",
    "            result += int(i)\n",
    "    if symbol == '-':\n",
    "        result = 0\n",
    "        for i in coll:\n",
    "            if i == coll[0]:\n",
    "                result = int(i)\n",
    "            else:\n",
    "                result -= int(i)\n",
    "                \n",
    "    if symbol == '*':\n",
    "        result = 1\n",
    "        for i in coll:\n",
    "            result *= int(i)\n",
    "    if symbol == '/':\n",
    "        result = 1\n",
    "        for i in coll:\n",
    "            if i == coll[0]:\n",
    "                result = int(i)\n",
    "            else:\n",
    "                result /= int(i)\n",
    "    return result"
   ]
  },
  {
   "cell_type": "code",
   "execution_count": 34,
   "metadata": {},
   "outputs": [
    {
     "name": "stdout",
     "output_type": "stream",
     "text": [
      "Please enter a number: 5\n",
      "Please enter a symbol from [+,-,*,/]: +\n",
      "15\n"
     ]
    }
   ],
   "source": [
    "#Calling Function\n",
    "coll = input(\"Please enter a number: \")\n",
    "symbol = input(\"Please enter a symbol from [+,-,*,/]: \")\n",
    "result = myreduce(coll,symbol)\n",
    "print(result)"
   ]
  },
  {
   "cell_type": "code",
   "execution_count": 35,
   "metadata": {},
   "outputs": [
    {
     "data": {
      "text/plain": [
       "15"
      ]
     },
     "execution_count": 35,
     "metadata": {},
     "output_type": "execute_result"
    }
   ],
   "source": [
    "#An Example of Reduce function\n",
    "from functools import reduce\n",
    "list1 = [1,2,3,4,5]\n",
    "product = reduce(lambda x,y: x+y,list1)\n",
    "product"
   ]
  },
  {
   "cell_type": "code",
   "execution_count": 36,
   "metadata": {},
   "outputs": [
    {
     "data": {
      "text/plain": [
       "[100, 300]"
      ]
     },
     "execution_count": 36,
     "metadata": {},
     "output_type": "execute_result"
    }
   ],
   "source": [
    "#An Example of Filter Function\n",
    "from functools import reduce\n",
    "list1 = [100,2,300,4,5]\n",
    "product = list(filter(lambda x: x>10,list1))\n",
    "product"
   ]
  },
  {
   "cell_type": "markdown",
   "metadata": {},
   "source": [
    "1.2 Write a Python program to implement your own myfilter() function which works exactly like Python's built-in function filter()"
   ]
  },
  {
   "cell_type": "code",
   "execution_count": 37,
   "metadata": {},
   "outputs": [],
   "source": [
    "#Implementing Main Function\n",
    "#Purpose of the function: Filter the prime numbers from a given list \n",
    "\n",
    "def myfilter(n):\n",
    "    coll = [i for i in range(1,int(n)+1)]\n",
    "    result = []\n",
    "    for i in coll:\n",
    "        cnt = 0\n",
    "        for j in range(2,i):\n",
    "            if i%j == 0:\n",
    "                cnt += 1\n",
    "        if cnt == 0:\n",
    "            result.append(i)\n",
    "    return result"
   ]
  },
  {
   "cell_type": "code",
   "execution_count": 38,
   "metadata": {},
   "outputs": [
    {
     "name": "stdout",
     "output_type": "stream",
     "text": [
      "Please enter a number from 1 to 100: 40\n",
      "[1, 2, 3, 5, 7, 11, 13, 17, 19, 23, 29, 31, 37]\n"
     ]
    }
   ],
   "source": [
    "#Calling Function\n",
    "num = int(input(\"Please enter a number from 1 to 100: \"))\n",
    "result = myfilter(num)\n",
    "print(result)"
   ]
  },
  {
   "cell_type": "markdown",
   "metadata": {},
   "source": [
    "2. Implement List comprehensions to produce the following lists."
   ]
  },
  {
   "cell_type": "code",
   "execution_count": 39,
   "metadata": {},
   "outputs": [
    {
     "name": "stdout",
     "output_type": "stream",
     "text": [
      "['A', 'C', 'A', 'D', 'G', 'I', 'L', 'D']\n"
     ]
    }
   ],
   "source": [
    "#['A', 'C', 'A', 'D', 'G', 'I', 'L', 'D']\n",
    "\n",
    "word=\"AcadGild\"\n",
    "word = [i.upper() for i in word]\n",
    "print(word)"
   ]
  },
  {
   "cell_type": "code",
   "execution_count": 40,
   "metadata": {},
   "outputs": [
    {
     "name": "stdout",
     "output_type": "stream",
     "text": [
      "['x', 'xx', 'xxx', 'xxxx', 'y', 'yy', 'yyy', 'yyyy', 'z', 'zz', 'zzz', 'zzzz']\n"
     ]
    }
   ],
   "source": [
    "#['x', 'xx', 'xxx', 'xxxx', 'y', 'yy', 'yyy', 'yyyy', 'z', 'zz', 'zzz', 'zzzz']\n",
    "word = ['x','y','z']\n",
    "word = [i*n for i in word for n in range(1,5)]\n",
    "print(word)"
   ]
  },
  {
   "cell_type": "code",
   "execution_count": 41,
   "metadata": {},
   "outputs": [
    {
     "name": "stdout",
     "output_type": "stream",
     "text": [
      "['x', 'y', 'z', 'xx', 'yy', 'zz', 'xxx', 'yyy', 'zzz', 'xxxx', 'yyyy', 'zzzz']\n"
     ]
    }
   ],
   "source": [
    "#['x', 'y', 'z', 'xx', 'yy', 'zz', 'xxx', 'yyy', 'zzz', 'xxxx', 'yyyy', 'zzzz']\n",
    "word = ['x','y','z']\n",
    "word = [i*n for n in range(1,5) for i in word]\n",
    "print(word)"
   ]
  },
  {
   "cell_type": "code",
   "execution_count": 42,
   "metadata": {},
   "outputs": [
    {
     "name": "stdout",
     "output_type": "stream",
     "text": [
      "[[2], [3], [4], [3], [4], [5], [4], [5], [6]]\n"
     ]
    }
   ],
   "source": [
    "#[[2], [3], [4], [3], [4], [5], [4], [5], [6]]\n",
    "num_list1 = [2,3,4]\n",
    "num_list1 = [[i+n] for n in range(0,3) for i in num_list1]\n",
    "print(num_list1)"
   ]
  },
  {
   "cell_type": "code",
   "execution_count": 43,
   "metadata": {},
   "outputs": [
    {
     "data": {
      "text/plain": [
       "[[2, 3, 4, 5], [3, 4, 5, 6], [4, 5, 6, 7], [5, 6, 7, 8]]"
      ]
     },
     "execution_count": 43,
     "metadata": {},
     "output_type": "execute_result"
    }
   ],
   "source": [
    "#[[2, 3, 4, 5], [3, 4, 5, 6], [4, 5, 6, 7], [5, 6, 7, 8]]\n",
    "num_list2 = [2,3,4,5]\n",
    "num_list2 = [[i+n for i in num_list2] for n in range(0,4)]\n",
    "num_list2"
   ]
  },
  {
   "cell_type": "code",
   "execution_count": 44,
   "metadata": {},
   "outputs": [
    {
     "data": {
      "text/plain": [
       "[(1, 1), (2, 1), (3, 1), (1, 2), (2, 2), (3, 2), (1, 3), (2, 3), (3, 3)]"
      ]
     },
     "execution_count": 44,
     "metadata": {},
     "output_type": "execute_result"
    }
   ],
   "source": [
    "#[(1, 1), (2, 1), (3, 1), (1, 2), (2, 2), (3, 2), (1, 3), (2, 3), (3, 3)]\n",
    "num_list3 = [1,2,3]\n",
    "num_list3 = [(i,j) for j in range(1,4) for i in num_list3]\n",
    "num_list3"
   ]
  },
  {
   "cell_type": "code",
   "execution_count": null,
   "metadata": {},
   "outputs": [],
   "source": []
  }
 ],
 "metadata": {
  "kernelspec": {
   "display_name": "Python 3",
   "language": "python",
   "name": "python3"
  },
  "language_info": {
   "codemirror_mode": {
    "name": "ipython",
    "version": 3
   },
   "file_extension": ".py",
   "mimetype": "text/x-python",
   "name": "python",
   "nbconvert_exporter": "python",
   "pygments_lexer": "ipython3",
   "version": "3.7.4"
  }
 },
 "nbformat": 4,
 "nbformat_minor": 2
}
