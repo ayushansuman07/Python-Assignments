{
 "cells": [
  {
   "cell_type": "markdown",
   "metadata": {},
   "source": [
    "# Python Assignment 4"
   ]
  },
  {
   "cell_type": "markdown",
   "metadata": {},
   "source": [
    "1.1 Write a Python Program(with class concepts) to find the area of the triangle using the below\n",
    "formula.\n",
    "area = (s*(s-a)*(s-b)*(s-c)) ** 0.5\n",
    "Function to take the length of the sides of triangle from user should be defined in the parent\n",
    "class and function to calculate the area should be defined in subclass."
   ]
  },
  {
   "cell_type": "code",
   "execution_count": 29,
   "metadata": {},
   "outputs": [],
   "source": [
    "#Parent Class\n",
    "class Area:\n",
    "    def __init__(self,a,b,c):\n",
    "        self.a = float(a)\n",
    "        self.b = float(b)\n",
    "        self.c = float(c)\n",
    "\n",
    "#Sub Class\n",
    "class calc_area(Area):\n",
    "    def area(self):\n",
    "        s = (self.a +self.b + self.c)/2\n",
    "        return ((s*(s-self.a)*(s-self.b)*(s-self.c))*0.5)\n",
    "        "
   ]
  },
  {
   "cell_type": "code",
   "execution_count": 30,
   "metadata": {},
   "outputs": [
    {
     "name": "stdout",
     "output_type": "stream",
     "text": [
      "area : -32812.5\n"
     ]
    }
   ],
   "source": [
    "#Executing the class\n",
    "ob = calc_area(10,20,40)\n",
    "print(\"area : {}\".format(ob.area())) "
   ]
  },
  {
   "cell_type": "markdown",
   "metadata": {},
   "source": [
    "Problem_1.2-: Write a function filter_long_words() that takes a list of words and an integer n and returns the list of words that are longer than n"
   ]
  },
  {
   "cell_type": "code",
   "execution_count": 70,
   "metadata": {},
   "outputs": [
    {
     "name": "stdout",
     "output_type": "stream",
     "text": [
      "Output:\n",
      "The List of longest words, which  are longer than 5 is :\n",
      "['Australlia', 'Brazil']\n"
     ]
    }
   ],
   "source": [
    "def filter_long_words(n,*arg_list):\n",
    "    result = list(arg_list)\n",
    "    result = [i for i in result if len(i.strip()) > n]\n",
    "    if (len(result) > 0):\n",
    "        print(\"Output:\")\n",
    "        print(\"The List of longest words, which  are longer than \"+str(n)+\" is :\")\n",
    "        return result\n",
    "    else:\n",
    "        return \"No Words longer than specified number \"+str(n)\n",
    "\n",
    "word_list = filter_long_words(5,'Australlia','India','Brazil')\n",
    "print(word_list)"
   ]
  },
  {
   "cell_type": "markdown",
   "metadata": {},
   "source": [
    "2.1 Write a Python program using function concept that maps list of words into a list of integers\n",
    "representing the lengths of the corresponding words.\n",
    "Hint: If a list [ ab,cde,erty] is passed on to the python function output should come as [2,3,4]\n",
    "Here 2,3 and 4 are the lengths of the words in the list."
   ]
  },
  {
   "cell_type": "code",
   "execution_count": 72,
   "metadata": {},
   "outputs": [
    {
     "data": {
      "text/plain": [
       "[2, 3, 4]"
      ]
     },
     "execution_count": 72,
     "metadata": {},
     "output_type": "execute_result"
    }
   ],
   "source": [
    "def map_word_length(word_list):\n",
    "    return list(map(len,word_list))\n",
    "word_list = map_word_length(['ab','cde','erty'])\n",
    "word_list"
   ]
  },
  {
   "cell_type": "markdown",
   "metadata": {},
   "source": [
    "2.2 Write a Python function which takes a character (i.e. a string of length 1) and returns True if\n",
    "it is a vowel, False otherwise."
   ]
  },
  {
   "cell_type": "code",
   "execution_count": 76,
   "metadata": {},
   "outputs": [
    {
     "name": "stdout",
     "output_type": "stream",
     "text": [
      "True\n",
      "False\n"
     ]
    }
   ],
   "source": [
    "def vowel(char):\n",
    "    vowel_list = ['a','e','i','o','u']\n",
    "    if char.lower() in vowel_list:\n",
    "        return True\n",
    "    else:\n",
    "        return False\n",
    "\n",
    "check1 = vowel('o')\n",
    "print(check1)\n",
    "\n",
    "check2 = vowel('b')\n",
    "print(check2)"
   ]
  },
  {
   "cell_type": "code",
   "execution_count": null,
   "metadata": {},
   "outputs": [],
   "source": []
  }
 ],
 "metadata": {
  "kernelspec": {
   "display_name": "Python 3",
   "language": "python",
   "name": "python3"
  },
  "language_info": {
   "codemirror_mode": {
    "name": "ipython",
    "version": 3
   },
   "file_extension": ".py",
   "mimetype": "text/x-python",
   "name": "python",
   "nbconvert_exporter": "python",
   "pygments_lexer": "ipython3",
   "version": "3.7.4"
  }
 },
 "nbformat": 4,
 "nbformat_minor": 2
}
